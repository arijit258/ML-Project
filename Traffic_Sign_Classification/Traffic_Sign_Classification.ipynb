{
  "cells": [
    {
      "cell_type": "markdown",
      "metadata": {
        "id": "Y3ojz9evi6YB"
      },
      "source": [
        "# Traffic Sign Classification"
      ]
    },
    {
      "cell_type": "code",
      "execution_count": 1,
      "metadata": {
        "id": "6CnCSkT0irlP"
      },
      "outputs": [],
      "source": [
        "import tensorflow as tf\n",
        "import tensorflow.keras as kr\n",
        "import tensorflow.keras.layers as layers"
      ]
    },
    {
      "cell_type": "markdown",
      "metadata": {
        "id": "WiAmi-v7jFE7"
      },
      "source": [
        "## Collecting data"
      ]
    },
    {
      "cell_type": "code",
      "execution_count": 3,
      "metadata": {
        "colab": {
          "base_uri": "https://localhost:8080/"
        },
        "id": "50N8wZ9ejEYA",
        "outputId": "f44f8bc0-d207-4df3-e19c-6062f4f2a981"
      },
      "outputs": [
        {
          "output_type": "stream",
          "name": "stdout",
          "text": [
            "mkdir: cannot create directory ‘/root/.kaggle’: File exists\n",
            "Warning: Looks like you're using an outdated API Version, please consider updating (server 1.5.15 / client 1.5.13)\n",
            "ref                                                                title                                               size  lastUpdated          downloadCount  voteCount  usabilityRating  \n",
            "-----------------------------------------------------------------  -------------------------------------------------  -----  -------------------  -------------  ---------  ---------------  \n",
            "meowmeowmeowmeowmeow/gtsrb-german-traffic-sign                     GTSRB - German Traffic Sign Recognition Benchmark  612MB  2018-11-25 18:12:34          87350        988  0.8235294        \n",
            "valentynsichkar/traffic-signs-preprocessed                         Traffic Signs Preprocessed                           4GB  2019-08-31 18:22:11          11425        255  1.0              \n",
            "eunjurho/german-traffic-sign-recognition-benchmark-cropped         german_traffic_sign_recognition_benchmark_cropped  206MB  2019-11-10 15:22:13            402          9  0.75             \n",
            "ibrahimkaratas/gtsrb-german-traffic-sign-recognition-benchmark     GTSRB German Traffic Sign Recognition Benchmark    231MB  2023-01-08 16:48:07             40          9  0.4375           \n",
            "bhavinmoriya/german-traffic-sign-recognition-benchmark             German Traffic Sign Recognition Benchmark          306MB  2021-12-17 17:03:58             58          5  0.3529412        \n",
            "valentynsichkar/traffic-signs-1-million-images-for-classification  Traffic Signs 1 million images for Classification   20GB  2021-02-08 16:45:43            413          9  1.0              \n",
            "valentynsichkar/preprocessed-light-version-of-traffic-signs        Pre-processed Light version of Traffic Signs         8GB  2021-04-10 13:35:24             64          3  1.0              \n",
            "riyajoshi30/traffic                                                Traffic                                             12KB  2020-10-26 06:36:23              6          1  0.25             \n",
            "ayoublouja/data-german                                             DATA GERMAN                                          5KB  2023-04-16 20:46:43              1          0  0.125            \n"
          ]
        }
      ],
      "source": [
        "! mkdir ~/.kaggle\n",
        "! cp kaggle.json ~/.kaggle/\n",
        "!chmod 600 /root/.kaggle/kaggle.json\n",
        "! kaggle datasets list -s gtsrb-german-traffic-sign"
      ]
    },
    {
      "cell_type": "code",
      "execution_count": 4,
      "metadata": {
        "colab": {
          "base_uri": "https://localhost:8080/"
        },
        "id": "CKhe7XUnjYxN",
        "outputId": "018b7e7a-061e-4b2f-b459-b50724507a43"
      },
      "outputs": [
        {
          "output_type": "stream",
          "name": "stdout",
          "text": [
            "Downloading gtsrb-german-traffic-sign.zip to /content\n",
            " 99% 608M/612M [00:14<00:00, 44.8MB/s]\n",
            "100% 612M/612M [00:14<00:00, 44.3MB/s]\n"
          ]
        }
      ],
      "source": [
        "! kaggle datasets download meowmeowmeowmeowmeow/gtsrb-german-traffic-sign"
      ]
    },
    {
      "cell_type": "markdown",
      "metadata": {
        "id": "qZml7HbMjqQk"
      },
      "source": [
        "## Preparing data"
      ]
    },
    {
      "cell_type": "code",
      "execution_count": 5,
      "metadata": {
        "id": "2ZOZtGqUjo69"
      },
      "outputs": [],
      "source": [
        "import zipfile\n",
        "data=zipfile.ZipFile('/content/gtsrb-german-traffic-sign.zip')\n",
        "data.extractall()\n",
        "data.close()"
      ]
    },
    {
      "cell_type": "code",
      "source": [
        "!rm -rf test\n",
        "!rm -rf train"
      ],
      "metadata": {
        "id": "qJohUYQKzj-Z"
      },
      "execution_count": 6,
      "outputs": []
    },
    {
      "cell_type": "code",
      "source": [
        "!rm -rf Meta"
      ],
      "metadata": {
        "id": "7vx1XUgGzj7Y"
      },
      "execution_count": 7,
      "outputs": []
    },
    {
      "cell_type": "code",
      "source": [
        "import matplotlib.pyplot as plt\n",
        "import matplotlib.image as img\n",
        "from PIL import Image"
      ],
      "metadata": {
        "id": "cBjTd3jDz_58"
      },
      "execution_count": 9,
      "outputs": []
    },
    {
      "cell_type": "markdown",
      "source": [
        "## Data Preparation"
      ],
      "metadata": {
        "id": "2jg5_17Y0MCI"
      }
    },
    {
      "cell_type": "code",
      "source": [
        "# Check the dimensions of all image\n",
        "import os\n",
        "dim1=[]\n",
        "dim2=[]\n",
        "\n",
        "for i in range(43):\n",
        "  path=os.path.join('/content/Train',str(i))\n",
        "  for image in os.listdir(path):\n",
        "    arr=img.imread(os.path.join(path,image))\n",
        "    dim1.append(arr.shape[0])\n",
        "    dim2.append(arr.shape[1])"
      ],
      "metadata": {
        "id": "SuaP9AYWz_3s"
      },
      "execution_count": 12,
      "outputs": []
    },
    {
      "cell_type": "code",
      "source": [
        "import numpy as np\n",
        "print(f'Mean dimension : {np.mean(dim1)},{np.mean(dim2)}')"
      ],
      "metadata": {
        "colab": {
          "base_uri": "https://localhost:8080/"
        },
        "id": "0je8f_I8z_0Y",
        "outputId": "0e528dd7-6208-4638-d01e-9be366f04c0b"
      },
      "execution_count": 13,
      "outputs": [
        {
          "output_type": "stream",
          "name": "stdout",
          "text": [
            "Mean dimension : 50.328929582493814,50.83587951745773\n"
          ]
        }
      ]
    },
    {
      "cell_type": "code",
      "source": [
        "# Resizing every images\n",
        "images=[]\n",
        "labels=[]\n",
        "for i in range(43):\n",
        "  path=os.path.join('/content/Train',str(i))\n",
        "  for image in os.listdir(path):\n",
        "    arr=Image.open(os.path.join(path,image))\n",
        "    arr=arr.resize((50,50))\n",
        "    arr=np.array(arr)\n",
        "    images.append(arr)\n",
        "    labels.append(i)"
      ],
      "metadata": {
        "id": "FjFtBMyuz_xp"
      },
      "execution_count": 15,
      "outputs": []
    },
    {
      "cell_type": "code",
      "source": [
        "images=np.array(images)\n",
        "images=images/255"
      ],
      "metadata": {
        "id": "b7fBLF7jzj2c"
      },
      "execution_count": 16,
      "outputs": []
    },
    {
      "cell_type": "code",
      "source": [
        "labels=np.array(labels)\n",
        "labels.shape"
      ],
      "metadata": {
        "colab": {
          "base_uri": "https://localhost:8080/"
        },
        "id": "QcDP6GWtzjzY",
        "outputId": "0b5982c0-cf79-4c01-e689-3fee3c57eaa0"
      },
      "execution_count": 17,
      "outputs": [
        {
          "output_type": "execute_result",
          "data": {
            "text/plain": [
              "(39209,)"
            ]
          },
          "metadata": {},
          "execution_count": 17
        }
      ]
    },
    {
      "cell_type": "code",
      "source": [
        "images.shape"
      ],
      "metadata": {
        "colab": {
          "base_uri": "https://localhost:8080/"
        },
        "id": "kf4k3qXU2Lnx",
        "outputId": "06b9508a-667f-44d5-c104-c7b7fbcc8df1"
      },
      "execution_count": 18,
      "outputs": [
        {
          "output_type": "execute_result",
          "data": {
            "text/plain": [
              "(39209, 50, 50, 3)"
            ]
          },
          "metadata": {},
          "execution_count": 18
        }
      ]
    },
    {
      "cell_type": "code",
      "source": [
        "from sklearn.model_selection import train_test_split\n",
        "x_train,x_test,y_train,y_test=train_test_split(images,labels,test_size=0.2,random_state=43)"
      ],
      "metadata": {
        "id": "xBCliwxw2Lk5"
      },
      "execution_count": 25,
      "outputs": []
    },
    {
      "cell_type": "code",
      "source": [
        "import tensorflow as tf\n",
        "import tensorflow.keras as kr\n",
        "import tensorflow.keras.layers as layers"
      ],
      "metadata": {
        "id": "_lMng3A62nam"
      },
      "execution_count": 20,
      "outputs": []
    },
    {
      "cell_type": "code",
      "source": [
        "y_train=kr.utils.to_categorical(y_train)\n",
        "y_test=kr.utils.to_categorical(y_test)"
      ],
      "metadata": {
        "id": "jUqfENXX2Lh4"
      },
      "execution_count": 26,
      "outputs": []
    },
    {
      "cell_type": "code",
      "execution_count": 27,
      "metadata": {
        "colab": {
          "base_uri": "https://localhost:8080/"
        },
        "id": "K28uU4rtm3ad",
        "outputId": "8bff1b75-a550-4286-dcd6-b79de005db55"
      },
      "outputs": [
        {
          "output_type": "execute_result",
          "data": {
            "text/plain": [
              "43"
            ]
          },
          "metadata": {},
          "execution_count": 27
        }
      ],
      "source": [
        "all_labels = ['Speed limit (20km/h)','Speed limit (30km/h)','Speed limit (50km/h)',\n",
        "              'Speed limit (60km/h)', 'Speed limit (70km/h)','Speed limit (80km/h)',\n",
        "              'End of speed limit (80km/h)','Speed limit (100km/h)',\n",
        "              'Speed limit (120km/h)','No passing','No passing for vechiles over 3.5 metric tons',\n",
        "              'Right-of-way at the next intersection','Priority road','Yield','Stop','No vechiles',\n",
        "              'Vechiles over 3.5 metric tons prohibited','No entry','General caution',\n",
        "              'Dangerous curve to the left', 'Dangerous curve to the right','Double curve',\n",
        "              'Bumpy road','Slippery qoad','Road narrows on the right', 'Road work','Traffic signals',\n",
        "              'Pedestrians','Children crossing','Bicycles crossing','Beware of ice/snow',\n",
        "              'Wild animals crossing','End of all speed and passing limits','Turn right ahead',\n",
        "              'Turn left ahead', 'Ahead only','Go straight or right','Go straight or left',\n",
        "              'Keep right','Keep left','Roundabout mandatory', 'End of no passing',\n",
        "              'End of no passing by vechiles over 3.5 metric']\n",
        "len(all_labels)"
      ]
    },
    {
      "cell_type": "markdown",
      "source": [
        "## Creating model"
      ],
      "metadata": {
        "id": "Gfkm-VxT3LXI"
      }
    },
    {
      "cell_type": "code",
      "source": [
        "model=kr.Sequential()\n",
        "model.add(layers.Conv2D(filters=64, kernel_size=(3,3), input_shape=x_train.shape[1:], padding='same', activation='relu'))\n",
        "model.add(layers.MaxPool2D(pool_size=(2,2)))\n",
        "model.add(layers.Dropout(0.5))\n",
        "model.add(layers.Conv2D(filters=64, kernel_size=(3,3), activation='relu'))\n",
        "model.add(layers.MaxPool2D(pool_size=(2,2)))\n",
        "model.add(layers.Dropout(0.5))\n",
        "model.add(layers.Flatten())\n",
        "model.add(layers.Dense(128,activation='relu'))\n",
        "model.add(layers.Dropout(0.5))\n",
        "model.add(layers.Dense(43,activation='softmax'))"
      ],
      "metadata": {
        "id": "owGQxgoC3KsI"
      },
      "execution_count": 30,
      "outputs": []
    },
    {
      "cell_type": "code",
      "source": [
        "model.compile(loss='categorical_crossentropy',\n",
        "              optimizer=kr.optimizers.Adam(),\n",
        "              metrics=['accuracy'])\n",
        "model.summary()"
      ],
      "metadata": {
        "colab": {
          "base_uri": "https://localhost:8080/"
        },
        "id": "qXuZ4vQm4In7",
        "outputId": "77a22d5a-f1b8-4f2e-8a2e-28e52a699f71"
      },
      "execution_count": 34,
      "outputs": [
        {
          "output_type": "stream",
          "name": "stdout",
          "text": [
            "Model: \"sequential\"\n",
            "_________________________________________________________________\n",
            " Layer (type)                Output Shape              Param #   \n",
            "=================================================================\n",
            " conv2d (Conv2D)             (None, 50, 50, 64)        1792      \n",
            "                                                                 \n",
            " max_pooling2d (MaxPooling2D  (None, 25, 25, 64)       0         \n",
            " )                                                               \n",
            "                                                                 \n",
            " dropout (Dropout)           (None, 25, 25, 64)        0         \n",
            "                                                                 \n",
            " conv2d_1 (Conv2D)           (None, 23, 23, 64)        36928     \n",
            "                                                                 \n",
            " max_pooling2d_1 (MaxPooling  (None, 11, 11, 64)       0         \n",
            " 2D)                                                             \n",
            "                                                                 \n",
            " dropout_1 (Dropout)         (None, 11, 11, 64)        0         \n",
            "                                                                 \n",
            " flatten (Flatten)           (None, 7744)              0         \n",
            "                                                                 \n",
            " dense (Dense)               (None, 128)               991360    \n",
            "                                                                 \n",
            " dropout_2 (Dropout)         (None, 128)               0         \n",
            "                                                                 \n",
            " dense_1 (Dense)             (None, 43)                5547      \n",
            "                                                                 \n",
            "=================================================================\n",
            "Total params: 1,035,627\n",
            "Trainable params: 1,035,627\n",
            "Non-trainable params: 0\n",
            "_________________________________________________________________\n"
          ]
        }
      ]
    },
    {
      "cell_type": "code",
      "source": [
        "es=tf.keras.callbacks.EarlyStopping(\n",
        "    monitor=\"val_loss\",\n",
        "    min_delta=0,\n",
        "    patience=3,\n",
        "    verbose=0,\n",
        "    mode=\"auto\",\n",
        "    baseline=None,\n",
        "    restore_best_weights=False,\n",
        "    start_from_epoch=0,\n",
        ")"
      ],
      "metadata": {
        "id": "uAX1ZZqJ42Rx"
      },
      "execution_count": 36,
      "outputs": []
    },
    {
      "cell_type": "code",
      "source": [
        "his=model.fit(x_train,y_train,epochs=50, batch_size=128, validation_data=(x_test,y_test), verbose=2,\n",
        "              callbacks=[es])"
      ],
      "metadata": {
        "colab": {
          "base_uri": "https://localhost:8080/"
        },
        "id": "hHzAf0jO5-Gg",
        "outputId": "bbcdbb25-cebe-4e8e-8d47-60bc035ee243"
      },
      "execution_count": 37,
      "outputs": [
        {
          "output_type": "stream",
          "name": "stdout",
          "text": [
            "Epoch 1/50\n",
            "246/246 - 5s - loss: 0.1216 - accuracy: 0.9605 - val_loss: 0.0213 - val_accuracy: 0.9952 - 5s/epoch - 20ms/step\n",
            "Epoch 2/50\n",
            "246/246 - 5s - loss: 0.1138 - accuracy: 0.9629 - val_loss: 0.0213 - val_accuracy: 0.9955 - 5s/epoch - 20ms/step\n",
            "Epoch 3/50\n",
            "246/246 - 4s - loss: 0.1107 - accuracy: 0.9632 - val_loss: 0.0232 - val_accuracy: 0.9945 - 4s/epoch - 18ms/step\n",
            "Epoch 4/50\n",
            "246/246 - 4s - loss: 0.1114 - accuracy: 0.9638 - val_loss: 0.0230 - val_accuracy: 0.9952 - 4s/epoch - 18ms/step\n"
          ]
        }
      ]
    },
    {
      "cell_type": "code",
      "source": [
        "\n",
        "def plot_loss_curves(history):\n",
        "  loss = history.history['loss']\n",
        "  val_loss = history.history['val_loss']\n",
        "\n",
        "  accuracy = history.history['accuracy']\n",
        "  val_accuracy = history.history['val_accuracy']\n",
        "\n",
        "  epochs = range(len(history.history['loss']))\n",
        "\n",
        "  # Plot loss\n",
        "  plt.plot(epochs, loss, label='training_loss')\n",
        "  plt.plot(epochs, val_loss, label='val_loss')\n",
        "  plt.title('Loss')\n",
        "  plt.xlabel('Epochs')\n",
        "  plt.legend()\n",
        "\n",
        "  # Plot accuracy\n",
        "  plt.figure()\n",
        "  plt.plot(epochs, accuracy, label='training_accuracy')\n",
        "  plt.plot(epochs, val_accuracy, label='val_accuracy')\n",
        "  plt.title('Accuracy')\n",
        "  plt.xlabel('Epochs')\n",
        "  plt.legend();"
      ],
      "metadata": {
        "id": "pBY3oMao6E5Z"
      },
      "execution_count": 38,
      "outputs": []
    },
    {
      "cell_type": "code",
      "source": [
        "plot_loss_curves(his)"
      ],
      "metadata": {
        "colab": {
          "base_uri": "https://localhost:8080/",
          "height": 927
        },
        "id": "DKkw7RUg6l8R",
        "outputId": "683366b3-866f-40c4-9e53-3de0732dab12"
      },
      "execution_count": 39,
      "outputs": [
        {
          "output_type": "display_data",
          "data": {
            "text/plain": [
              "<Figure size 640x480 with 1 Axes>"
            ],
            "image/png": "[encoded data removed]"
          },
          "metadata": {}
        },
        {
          "output_type": "display_data",
          "data": {
            "text/plain": [
              "<Figure size 640x480 with 1 Axes>"
            ],
            "image/png": "[encoded data removed]"
          },
          "metadata": {}
        }
      ]
    },
    {
      "cell_type": "code",
      "source": [
        "def load_and_prep_image(filename, img_shape=50, scale=True):\n",
        "  # Read in the image\n",
        "  img = tf.io.read_file(filename)\n",
        "  # Decode it into a tensor\n",
        "  img = tf.image.decode_jpeg(img)\n",
        "  # Resize the image\n",
        "  img = tf.image.resize(img, [img_shape, img_shape])\n",
        "  if scale:\n",
        "    # Rescale the image (get all values between 0 and 1)\n",
        "    return img/255.\n",
        "  else:\n",
        "    return img\n"
      ],
      "metadata": {
        "id": "FpvUcxEs6oix"
      },
      "execution_count": 47,
      "outputs": []
    },
    {
      "cell_type": "code",
      "source": [
        "def pred_and_plot(model, filename, class_names):\n",
        "  \"\"\"\n",
        "  Imports an image located at filename, makes a prediction on it with\n",
        "  a trained model and plots the image with the predicted class as the title.\n",
        "  \"\"\"\n",
        "  # Import the target image and preprocess it\n",
        "  img = load_and_prep_image(filename)\n",
        "\n",
        "  # Make a prediction\n",
        "  pred = model.predict(tf.expand_dims(img, axis=0))\n",
        "\n",
        "  # Get the predicted class\n",
        "  if len(pred[0]) > 1: # check for multi-class\n",
        "    pred_class = class_names[pred.argmax()] # if more than one output, take the max\n",
        "  else:\n",
        "    pred_class = class_names[int(tf.round(pred)[0][0])] # if only one output, round\n",
        "\n",
        "  # Plot the image and predicted class\n",
        "  plt.imshow(img)\n",
        "  plt.title(f\"Prediction: {pred_class}\")\n",
        "  plt.axis(False);\n"
      ],
      "metadata": {
        "id": "nxYp4qnR7ryB"
      },
      "execution_count": 48,
      "outputs": []
    },
    {
      "cell_type": "code",
      "source": [
        "pred_and_plot(model,'Test/00000.png',all_labels)"
      ],
      "metadata": {
        "colab": {
          "base_uri": "https://localhost:8080/",
          "height": 445
        },
        "id": "mYcIt9wl7MvM",
        "outputId": "c0c2a054-a74b-4f7c-a4cb-d1541505a1ce"
      },
      "execution_count": 49,
      "outputs": [
        {
          "output_type": "stream",
          "name": "stdout",
          "text": [
            "1/1 [==============================] - 0s 254ms/step\n"
          ]
        },
        {
          "output_type": "display_data",
          "data": {
            "text/plain": [
              "<Figure size 640x480 with 1 Axes>"
            ],
            "image/png": "[encoded data removed]"
          },
          "metadata": {}
        }
      ]
    }
  ],
  "metadata": {
    "accelerator": "GPU",
    "colab": {
      "provenance": []
    },
    "kernelspec": {
      "display_name": "Python 3",
      "name": "python3"
    },
    "language_info": {
      "name": "python"
    }
  },
  "nbformat": 4,
  "nbformat_minor": 0
}